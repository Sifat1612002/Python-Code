{
 "cells": [
  {
   "cell_type": "code",
   "execution_count": 4,
   "metadata": {},
   "outputs": [
    {
     "name": "stdout",
     "output_type": "stream",
     "text": [
      "      0 |                        ..........                     \n",
      "        |                     ...          ...                  \n",
      "        |                   ..                ..                \n",
      "        |                 ..                    ..              \n",
      "        |               ..                        \\             \n",
      "        |              /                           ..           \n",
      "        |             /                              \\          \n",
      "        |           ..                                \\         \n",
      "        |          /                                   \\        \n",
      "        |         /                                     \\       \n",
      "    -55 |--------/---------------------------------------\\------\n",
      "        |       /                                         \\     \n",
      "        |      .                                           \\    \n",
      "        |                                                   \\   \n",
      "        |     .                                              \\  \n",
      "        |    /                                                \\ \n",
      "        |   /                                                  \\\n",
      "        |  .                                                    \n",
      "        |                                                       \n",
      "        | .                                                     \n",
      "   -110 |_______________________________________________________\n",
      "         -10                        0                          10\n"
     ]
    },
    {
     "data": {
      "text/plain": [
       "<sympy.plotting.plot.Plot at 0x2aeec00bd50>"
      ]
     },
     "execution_count": 4,
     "metadata": {},
     "output_type": "execute_result"
    }
   ],
   "source": [
    "# import math\n",
    "import sympy\n",
    "\n",
    "from sympy import *\n",
    "# a = math.sqrt(8)\n",
    "# print(a)\n",
    "# b = sympy.sqrt(8)\n",
    "# print(b)\n",
    "# init_printing(use_unicode=True)\n",
    "# c = sqrt(8)\n",
    "# print(c)\n",
    "\n",
    "x, y, z = symbols('x y z')\n",
    "# d = factor(x**2 + 2*x*y + y**2)\n",
    "# print(d)\n",
    "\n",
    "# e = expand((x+y+z)**2)\n",
    "# print(e)\n",
    "\n",
    "p = symbols('p')\n",
    "f = p*(1-p)\n",
    "plot(f)"
   ]
  },
  {
   "cell_type": "code",
   "execution_count": 5,
   "metadata": {},
   "outputs": [
    {
     "name": "stdout",
     "output_type": "stream",
     "text": [
      "    2.7 |                            .                          \n",
      "        |                                                       \n",
      "        |                                                       \n",
      "        |                                                       \n",
      "        |                                                       \n",
      "        |                             .                         \n",
      "        |                                                       \n",
      "        |                              .                        \n",
      "        |                               ...                     \n",
      "        |                                  .............        \n",
      "      0 |........---------------------------------------........\n",
      "        |        .............                                  \n",
      "        |                     ...                               \n",
      "        |                        .                              \n",
      "        |                                                       \n",
      "        |                         .                             \n",
      "        |                                                       \n",
      "        |                                                       \n",
      "        |                                                       \n",
      "        |                                                       \n",
      "   -2.7 |_______________________________________________________\n",
      "         -10                        0                          10\n"
     ]
    },
    {
     "data": {
      "text/plain": [
       "<sympy.plotting.plot.Plot at 0x2aeebde8450>"
      ]
     },
     "execution_count": 5,
     "metadata": {},
     "output_type": "execute_result"
    }
   ],
   "source": [
    "import sympy\n",
    "from sympy import *\n",
    "init_printing()\n",
    "\n",
    "x = symbols('x')\n",
    "f = 1/x\n",
    "plot(f, xlim=[-5, 5], ylim=[-5, 5])"
   ]
  }
 ],
 "metadata": {
  "kernelspec": {
   "display_name": "Python 3",
   "language": "python",
   "name": "python3"
  },
  "language_info": {
   "codemirror_mode": {
    "name": "ipython",
    "version": 3
   },
   "file_extension": ".py",
   "mimetype": "text/x-python",
   "name": "python",
   "nbconvert_exporter": "python",
   "pygments_lexer": "ipython3",
   "version": "3.11.3"
  },
  "orig_nbformat": 4
 },
 "nbformat": 4,
 "nbformat_minor": 2
}
